{
 "cells": [
  {
   "cell_type": "code",
   "execution_count": 1,
   "id": "98d0ef30-6b10-4a13-bd81-fa947f59f5a5",
   "metadata": {},
   "outputs": [],
   "source": [
    "import asyncio\n",
    "import time"
   ]
  },
  {
   "cell_type": "code",
   "execution_count": 2,
   "id": "f3675ec8-c88e-405b-afcb-57babb547669",
   "metadata": {},
   "outputs": [],
   "source": [
    "async def sum(name, numbers):\n",
    "    c = 0\n",
    "    for number in numbers:\n",
    "        print(f'Task {name}: {c}+{number}')\n",
    "        await asyncio.sleep(1) # some demanding I/O task\n",
    "        c += number\n",
    "    print(f'Task {name}: Sum = {c}\\n')"
   ]
  },
  {
   "cell_type": "code",
   "execution_count": 3,
   "id": "7cd63c7e-f27e-4d50-8056-18e3cd2d69f9",
   "metadata": {},
   "outputs": [
    {
     "name": "stdout",
     "output_type": "stream",
     "text": [
      "Task A: 0+1\n",
      "Task B: 0+1\n",
      "Task A: 1+2\n",
      "Task B: 1+2\n",
      "Task A: Sum = 3\n",
      "\n",
      "Task B: 3+3\n",
      "Task B: Sum = 6\n",
      "\n",
      "Time: 3.01 sec\n"
     ]
    }
   ],
   "source": [
    "start = time.time()\n",
    "\n",
    "loop = asyncio.get_event_loop()\n",
    "tasks = [\n",
    "    loop.create_task(sum(\"A\", [1, 2])),\n",
    "    loop.create_task(sum(\"B\", [1, 2, 3])),\n",
    "]\n",
    "await asyncio.wait(tasks)\n",
    "\n",
    "end = time.time()\n",
    "\n",
    "print(f'Time: {end-start:.2f} sec')"
   ]
  },
  {
   "cell_type": "code",
   "execution_count": null,
   "id": "9d7cf521",
   "metadata": {},
   "outputs": [],
   "source": []
  }
 ],
 "metadata": {
  "kernelspec": {
   "display_name": "__pyenv__",
   "language": "python",
   "name": "python3"
  },
  "language_info": {
   "codemirror_mode": {
    "name": "ipython",
    "version": 3
   },
   "file_extension": ".py",
   "mimetype": "text/x-python",
   "name": "python",
   "nbconvert_exporter": "python",
   "pygments_lexer": "ipython3",
   "version": "3.13.1"
  }
 },
 "nbformat": 4,
 "nbformat_minor": 5
}
