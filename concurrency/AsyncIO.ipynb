{
 "cells": [
  {
   "cell_type": "code",
   "execution_count": 3,
   "id": "98d0ef30-6b10-4a13-bd81-fa947f59f5a5",
   "metadata": {},
   "outputs": [],
   "source": [
    "import asyncio\n",
    "import time"
   ]
  },
  {
   "cell_type": "code",
   "execution_count": 4,
   "id": "b2e38c05-603a-4de1-9bc1-d824d59b41b4",
   "metadata": {},
   "outputs": [],
   "source": [
    "async def sleep():\n",
    "    print(f'Time: {time.time() - start:.2f}')\n",
    "    await asyncio.sleep(1)"
   ]
  },
  {
   "cell_type": "code",
   "execution_count": 5,
   "id": "f3675ec8-c88e-405b-afcb-57babb547669",
   "metadata": {},
   "outputs": [],
   "source": [
    "async def sum(name, numbers):\n",
    "    total = 0\n",
    "    for number in numbers:\n",
    "        print(f'Task {name}: Computing {total}+{number}')\n",
    "        await sleep()\n",
    "        total += number\n",
    "    print(f'Task {name}: Sum = {total}\\n')"
   ]
  },
  {
   "cell_type": "code",
   "execution_count": 14,
   "id": "7cd63c7e-f27e-4d50-8056-18e3cd2d69f9",
   "metadata": {},
   "outputs": [
    {
     "name": "stdout",
     "output_type": "stream",
     "text": [
      "Task A: Computing 0+1\n",
      "Time: 0.00\n",
      "Task B: Computing 0+1\n",
      "Time: 0.00\n",
      "Task A: Computing 1+2\n",
      "Time: 1.00\n",
      "Task B: Computing 1+2\n",
      "Time: 1.00\n",
      "Task A: Sum = 3\n",
      "\n",
      "Task B: Computing 3+3\n",
      "Time: 2.00\n",
      "Task B: Sum = 6\n",
      "\n"
     ]
    }
   ],
   "source": [
    "start = time.time()\n",
    "\n",
    "loop = asyncio.get_event_loop()\n",
    "tasks = [\n",
    "    loop.create_task(sum(\"A\", [1, 2])),\n",
    "    loop.create_task(sum(\"B\", [1, 2, 3])),\n",
    "]\n",
    "await asyncio.wait(tasks)\n",
    "\n",
    "end = time.time()"
   ]
  },
  {
   "cell_type": "code",
   "execution_count": 15,
   "id": "88c3838d-bd56-456e-a9d0-d798a3a41057",
   "metadata": {},
   "outputs": [
    {
     "name": "stdout",
     "output_type": "stream",
     "text": [
      "Time: 3.00 sec\n"
     ]
    }
   ],
   "source": [
    "print(f'Time: {end-start:.2f} sec')"
   ]
  },
  {
   "cell_type": "code",
   "execution_count": null,
   "id": "695f7801-d842-43f8-9bae-d4da0e5a5fa2",
   "metadata": {},
   "outputs": [],
   "source": []
  }
 ],
 "metadata": {
  "kernelspec": {
   "display_name": "Python 3 (ipykernel)",
   "language": "python",
   "name": "python3"
  },
  "language_info": {
   "codemirror_mode": {
    "name": "ipython",
    "version": 3
   },
   "file_extension": ".py",
   "mimetype": "text/x-python",
   "name": "python",
   "nbconvert_exporter": "python",
   "pygments_lexer": "ipython3",
   "version": "3.13.1"
  }
 },
 "nbformat": 4,
 "nbformat_minor": 5
}
