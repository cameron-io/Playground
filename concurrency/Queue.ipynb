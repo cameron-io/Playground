{
 "cells": [
  {
   "cell_type": "code",
   "execution_count": 1,
   "id": "98848a33-0314-4fca-a8d5-e91ed238c3bc",
   "metadata": {},
   "outputs": [],
   "source": [
    "import threading\n",
    "import queue"
   ]
  },
  {
   "cell_type": "code",
   "execution_count": 2,
   "id": "ebe49492-e4b4-4589-a00f-736874104359",
   "metadata": {},
   "outputs": [],
   "source": [
    "q = queue.Queue()"
   ]
  },
  {
   "cell_type": "code",
   "execution_count": 3,
   "id": "7504c032-74c5-4e45-9008-844c27a29371",
   "metadata": {},
   "outputs": [],
   "source": [
    "def worker():\n",
    "    while True:\n",
    "        item = q.get()\n",
    "        q.task_done()"
   ]
  },
  {
   "cell_type": "code",
   "execution_count": 4,
   "id": "20aa9832-f823-4e1f-9084-830b389a74a4",
   "metadata": {},
   "outputs": [],
   "source": [
    "# Turn-on the worker thread.\n",
    "threading.Thread(target=worker, daemon=True).start()"
   ]
  },
  {
   "cell_type": "code",
   "execution_count": 7,
   "id": "c00d5308-5425-419f-9713-bb61689bff08",
   "metadata": {},
   "outputs": [],
   "source": [
    "# Send thirty task requests to the worker.\n",
    "for item in range(1000000):\n",
    "    q.put(item)"
   ]
  },
  {
   "cell_type": "code",
   "execution_count": 8,
   "id": "5c39083e-63a0-43c6-b913-9276f165c811",
   "metadata": {},
   "outputs": [
    {
     "name": "stdout",
     "output_type": "stream",
     "text": [
      "All work completed\n"
     ]
    }
   ],
   "source": [
    "# Block until all tasks are done.\n",
    "q.join()\n",
    "print('All work completed')"
   ]
  },
  {
   "cell_type": "code",
   "execution_count": null,
   "id": "1ce61c81-41fe-4888-934a-d7e36fc50d68",
   "metadata": {},
   "outputs": [],
   "source": []
  }
 ],
 "metadata": {
  "kernelspec": {
   "display_name": "Python 3 (ipykernel)",
   "language": "python",
   "name": "python3"
  },
  "language_info": {
   "codemirror_mode": {
    "name": "ipython",
    "version": 3
   },
   "file_extension": ".py",
   "mimetype": "text/x-python",
   "name": "python",
   "nbconvert_exporter": "python",
   "pygments_lexer": "ipython3",
   "version": "3.10.11"
  }
 },
 "nbformat": 4,
 "nbformat_minor": 5
}
