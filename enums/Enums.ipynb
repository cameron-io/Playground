{
 "cells": [
  {
   "cell_type": "code",
   "execution_count": 1,
   "id": "1e478e1e-0ec0-4e96-b958-3e33bd33385c",
   "metadata": {},
   "outputs": [],
   "source": [
    "import enum"
   ]
  },
  {
   "cell_type": "code",
   "execution_count": 13,
   "id": "dc47a9dc-7679-49c9-b67d-45fcb7a47ea0",
   "metadata": {},
   "outputs": [],
   "source": [
    "class Weekday(enum.Enum):\n",
    "    MONDAY = 1\n",
    "    TUESDAY = 2\n",
    "    WEDNESDAY = 3\n",
    "\n",
    "# Using enum as keys in a dictionary\n",
    "schedule = {\n",
    "    Weekday.MONDAY: \"Meeting\",\n",
    "    Weekday.TUESDAY: \"Presentation\",\n",
    "    Weekday.WEDNESDAY: \"Training\"\n",
    "}"
   ]
  },
  {
   "cell_type": "code",
   "execution_count": 14,
   "id": "a26fc6c7-90de-4e6b-af96-0e5d2db9333a",
   "metadata": {},
   "outputs": [
    {
     "data": {
      "text/plain": [
       "'Meeting'"
      ]
     },
     "execution_count": 14,
     "metadata": {},
     "output_type": "execute_result"
    }
   ],
   "source": [
    "schedule[Weekday.MONDAY]"
   ]
  },
  {
   "cell_type": "code",
   "execution_count": 15,
   "id": "90a03e45-0bff-4c3e-b739-d45241146d01",
   "metadata": {},
   "outputs": [
    {
     "data": {
      "text/plain": [
       "'MONDAY'"
      ]
     },
     "execution_count": 15,
     "metadata": {},
     "output_type": "execute_result"
    }
   ],
   "source": [
    "Weekday.MONDAY.name"
   ]
  },
  {
   "cell_type": "code",
   "execution_count": 16,
   "id": "b40ac924-03be-4b96-a48f-956ffdb2cc22",
   "metadata": {},
   "outputs": [
    {
     "data": {
      "text/plain": [
       "1"
      ]
     },
     "execution_count": 16,
     "metadata": {},
     "output_type": "execute_result"
    }
   ],
   "source": [
    "Weekday.MONDAY.value"
   ]
  },
  {
   "cell_type": "code",
   "execution_count": null,
   "id": "ad24d082-a59f-4910-b67f-8d8d27fd07c0",
   "metadata": {},
   "outputs": [],
   "source": []
  }
 ],
 "metadata": {
  "kernelspec": {
   "display_name": "Python 3 (ipykernel)",
   "language": "python",
   "name": "python3"
  },
  "language_info": {
   "codemirror_mode": {
    "name": "ipython",
    "version": 3
   },
   "file_extension": ".py",
   "mimetype": "text/x-python",
   "name": "python",
   "nbconvert_exporter": "python",
   "pygments_lexer": "ipython3",
   "version": "3.13.1"
  }
 },
 "nbformat": 4,
 "nbformat_minor": 5
}
