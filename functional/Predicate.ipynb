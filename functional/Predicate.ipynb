{
 "cells": [
  {
   "cell_type": "code",
   "execution_count": 1,
   "id": "c444a0e8-dbce-46d4-a7c5-9203c5859f96",
   "metadata": {},
   "outputs": [],
   "source": [
    "l = [1, 2, 3, 4, 5]"
   ]
  },
  {
   "cell_type": "code",
   "execution_count": 3,
   "id": "88a3914c-d1ad-4de3-83a8-40e0c5f5aac9",
   "metadata": {},
   "outputs": [
    {
     "name": "stdout",
     "output_type": "stream",
     "text": [
      "[2, 4]\n"
     ]
    }
   ],
   "source": [
    "# Predicate function\n",
    "# - returns an iterator containing only the elements where predicate is satisfied.\n",
    "res = list(filter(lambda x: x % 2 == 0, l))\n",
    "print(res)"
   ]
  },
  {
   "cell_type": "code",
   "execution_count": 4,
   "id": "7365f135-7ce4-467d-9faf-291aa464edfb",
   "metadata": {},
   "outputs": [
    {
     "name": "stdout",
     "output_type": "stream",
     "text": [
      "[2, 4]\n"
     ]
    }
   ],
   "source": [
    "# Generator expression\n",
    "# - used to create a generator that yields elements satisfying the predicate.\n",
    "# - memory-efficient for large datasets.\n",
    "\n",
    "res = [x for x in l if x % 2 == 0]\n",
    "print(res)"
   ]
  },
  {
   "cell_type": "code",
   "execution_count": 10,
   "id": "f76864b8-1c93-4f21-96ef-2c7e4d61e448",
   "metadata": {},
   "outputs": [
    {
     "name": "stdout",
     "output_type": "stream",
     "text": [
      "[2 4]\n"
     ]
    }
   ],
   "source": [
    "import numpy as np\n",
    "\n",
    "# Input array\n",
    "a = np.array(l)\n",
    "\n",
    "# Filter even numbers\n",
    "res = a[a % 2 == 0]\n",
    "print(res)"
   ]
  },
  {
   "cell_type": "code",
   "execution_count": 11,
   "id": "70331768-9295-408b-aa04-35057123ea27",
   "metadata": {},
   "outputs": [
    {
     "name": "stdout",
     "output_type": "stream",
     "text": [
      "   values\n",
      "1       2\n",
      "3       4\n"
     ]
    }
   ],
   "source": [
    "import pandas as pd\n",
    "\n",
    "# Input list as a DataFrame\n",
    "df = pd.DataFrame({\"values\": l})\n",
    "\n",
    "# Filter even numbers\n",
    "res = df[df[\"values\"] % 2 == 0]\n",
    "print(res)"
   ]
  },
  {
   "cell_type": "code",
   "execution_count": null,
   "id": "5b474cb6-2ae4-467f-9ee0-267b9f482172",
   "metadata": {},
   "outputs": [],
   "source": []
  }
 ],
 "metadata": {
  "kernelspec": {
   "display_name": "__pyenv__",
   "language": "python",
   "name": "python3"
  },
  "language_info": {
   "codemirror_mode": {
    "name": "ipython",
    "version": 3
   },
   "file_extension": ".py",
   "mimetype": "text/x-python",
   "name": "python",
   "nbconvert_exporter": "python",
   "pygments_lexer": "ipython3",
   "version": "3.13.1"
  }
 },
 "nbformat": 4,
 "nbformat_minor": 5
}
