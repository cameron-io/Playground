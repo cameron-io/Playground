{
 "cells": [
  {
   "cell_type": "code",
   "execution_count": 1,
   "metadata": {},
   "outputs": [],
   "source": [
    "from collections import deque"
   ]
  },
  {
   "cell_type": "code",
   "execution_count": 2,
   "metadata": {},
   "outputs": [],
   "source": [
    "# BFS from given source s\n",
    "def bfs(adj, s):\n",
    "  \n",
    "    # Create a queue for BFS\n",
    "    q = deque()\n",
    "    \n",
    "    # Initially mark all the vertices as not visited\n",
    "    # When we push a vertex into the q, we mark it as \n",
    "    # visited\n",
    "    visited = [False] * len(adj)\n",
    "\n",
    "    # Mark the source node as visited and enqueue it\n",
    "    visited[s] = True\n",
    "    q.append(s)\n",
    "\n",
    "    # Iterate over the queue\n",
    "    while q:\n",
    "      \n",
    "        # Dequeue a vertex from queue and print it\n",
    "        curr = q.popleft()\n",
    "        print(curr, end=\" \")\n",
    "\n",
    "        # Get all adjacent vertices of the dequeued \n",
    "        # vertex. If an adjacent has not been visited, \n",
    "        # mark it visited and enqueue it\n",
    "        for x in adj[curr]:\n",
    "            if not visited[x]:\n",
    "                visited[x] = True\n",
    "                q.append(x)"
   ]
  },
  {
   "cell_type": "code",
   "execution_count": 3,
   "metadata": {},
   "outputs": [],
   "source": [
    "# Function to add an edge to the graph\n",
    "def add_edge(adj, u, v):\n",
    "    adj[u].append(v)\n",
    "    adj[v].append(u)"
   ]
  },
  {
   "cell_type": "code",
   "execution_count": 4,
   "metadata": {},
   "outputs": [],
   "source": [
    "# Number of vertices in the graph\n",
    "V = 5\n",
    "\n",
    "# Adjacency list representation of the graph\n",
    "adj = [[] for _ in range(V)]"
   ]
  },
  {
   "cell_type": "code",
   "execution_count": 5,
   "metadata": {},
   "outputs": [],
   "source": [
    "# Add edges to the graph\n",
    "add_edge(adj, 0, 1)\n",
    "add_edge(adj, 0, 2)\n",
    "add_edge(adj, 1, 3)\n",
    "add_edge(adj, 1, 4)\n",
    "add_edge(adj, 2, 4)"
   ]
  },
  {
   "cell_type": "code",
   "execution_count": 6,
   "metadata": {},
   "outputs": [
    {
     "name": "stdout",
     "output_type": "stream",
     "text": [
      "BFS starting from 0: \n",
      "0 1 2 3 4 "
     ]
    }
   ],
   "source": [
    "# Perform BFS traversal starting from vertex 0\n",
    "print(\"BFS starting from 0: \")\n",
    "bfs(adj, 0)"
   ]
  },
  {
   "cell_type": "code",
   "execution_count": null,
   "metadata": {},
   "outputs": [],
   "source": []
  }
 ],
 "metadata": {
  "kernelspec": {
   "display_name": "__pyenv__",
   "language": "python",
   "name": "python3"
  },
  "language_info": {
   "codemirror_mode": {
    "name": "ipython",
    "version": 3
   },
   "file_extension": ".py",
   "mimetype": "text/x-python",
   "name": "python",
   "nbconvert_exporter": "python",
   "pygments_lexer": "ipython3",
   "version": "3.13.1"
  }
 },
 "nbformat": 4,
 "nbformat_minor": 2
}
