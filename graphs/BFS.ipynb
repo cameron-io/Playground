{
 "cells": [
  {
   "cell_type": "code",
   "execution_count": 1,
   "metadata": {},
   "outputs": [],
   "source": [
    "from collections import deque\n",
    "from typing import List"
   ]
  },
  {
   "cell_type": "code",
   "execution_count": 2,
   "metadata": {},
   "outputs": [],
   "source": [
    "# BFS from given source s\n",
    "def bfs(adj: List[List[int]], source):\n",
    "\n",
    "    # Create a queue for BFS\n",
    "    q = deque()\n",
    "    \n",
    "    # Initially mark all vertices as not visited\n",
    "    visited: List[bool] = [False] * len(adj)\n",
    "    \n",
    "    # Mark the source node as visited and enqueue it\n",
    "    visited[source] = True\n",
    "    q.append(source)\n",
    "\n",
    "    output: List[int] = []\n",
    "\n",
    "    # Iterate over the queue\n",
    "    while q:\n",
    "        \n",
    "        # Dequeue a vertex from queue and print it\n",
    "        node: int = q.popleft()\n",
    "        output.append(node)\n",
    "        \n",
    "        # Get all adjacent vertices of dequeued vertex\n",
    "        # If adjacent not visited, mark it visited & enqueue it\n",
    "        for adj_vertex in adj[node]:\n",
    "            if not visited[adj_vertex]:\n",
    "                visited[adj_vertex] = True\n",
    "                q.append(adj_vertex)\n",
    "    \n",
    "    return output"
   ]
  },
  {
   "cell_type": "code",
   "execution_count": 3,
   "metadata": {},
   "outputs": [],
   "source": [
    "# Function to add an edge to the graph\n",
    "def add_edge(adj: List[List[int]], start_node: int, end_node: int):\n",
    "    adj[start_node].append(end_node)\n",
    "    adj[end_node].append(start_node)"
   ]
  },
  {
   "cell_type": "code",
   "execution_count": 4,
   "metadata": {},
   "outputs": [],
   "source": [
    "# Number of vertices in the graph\n",
    "V = 6\n",
    "\n",
    "# Adjacency list representation of the graph\n",
    "adj: List[List[int]] = [[] for _ in range(V)]"
   ]
  },
  {
   "cell_type": "code",
   "execution_count": 5,
   "metadata": {},
   "outputs": [
    {
     "data": {
      "text/plain": [
       "[[1, 2], [0, 3, 4], [0, 4], [1, 4], [1, 2, 3, 5], [4]]"
      ]
     },
     "execution_count": 5,
     "metadata": {},
     "output_type": "execute_result"
    }
   ],
   "source": [
    "# Add edges to the graph\n",
    "add_edge(adj, 0, 1)\n",
    "add_edge(adj, 0, 2)\n",
    "add_edge(adj, 1, 3)\n",
    "add_edge(adj, 1, 4)\n",
    "add_edge(adj, 2, 4)\n",
    "add_edge(adj, 3, 4)\n",
    "add_edge(adj, 4, 5)\n",
    "\n",
    "# Graph Visualisation\n",
    "#      0\n",
    "#     / \\\n",
    "#    1   2\n",
    "#   /\\  /\n",
    "# 3 - 4 - 5\n",
    "adj"
   ]
  },
  {
   "cell_type": "code",
   "execution_count": 6,
   "metadata": {},
   "outputs": [
    {
     "name": "stdout",
     "output_type": "stream",
     "text": [
      "BFS starting from 0: \n"
     ]
    },
    {
     "data": {
      "text/plain": [
       "[0, 1, 2, 3, 4, 5]"
      ]
     },
     "execution_count": 6,
     "metadata": {},
     "output_type": "execute_result"
    }
   ],
   "source": [
    "# Perform BFS traversal starting from vertex 0\n",
    "print(\"BFS starting from 0: \")\n",
    "bfs(adj, 0)"
   ]
  },
  {
   "cell_type": "code",
   "execution_count": null,
   "metadata": {},
   "outputs": [],
   "source": []
  }
 ],
 "metadata": {
  "kernelspec": {
   "display_name": "__pyenv__",
   "language": "python",
   "name": "python3"
  },
  "language_info": {
   "codemirror_mode": {
    "name": "ipython",
    "version": 3
   },
   "file_extension": ".py",
   "mimetype": "text/x-python",
   "name": "python",
   "nbconvert_exporter": "python",
   "pygments_lexer": "ipython3",
   "version": "3.13.1"
  }
 },
 "nbformat": 4,
 "nbformat_minor": 2
}
