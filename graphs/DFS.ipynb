{
 "cells": [
  {
   "cell_type": "code",
   "execution_count": 1,
   "metadata": {},
   "outputs": [],
   "source": [
    "from collections import defaultdict\n",
    "\n",
    "class Graph:\n",
    "    def __init__(self):\n",
    "        self.adj = defaultdict(list)\n",
    "\n",
    "    # Function to add an edge to graph\n",
    "    def add_edge(self, u: int, v: int):\n",
    "        self.adj[u].append(v)\n"
   ]
  },
  {
   "cell_type": "code",
   "execution_count": null,
   "metadata": {},
   "outputs": [],
   "source": [
    "from typing import List\n",
    "\n",
    "def search(adj: defaultdict[List], v: int, visited: set[int]):\n",
    "    visited.add(v)\n",
    "    print(v, end=' ')\n",
    "\n",
    "    # Recur for all the vertices\n",
    "    # adjacent to this vertex\n",
    "    for neighbour in adj[v]:\n",
    "        if neighbour not in visited:\n",
    "            search(adj, neighbour, visited)\n",
    "\n",
    "def DFS(adj: defaultdict[List], v: int):\n",
    "    visited = set()\n",
    "\n",
    "    search(adj, v, visited)"
   ]
  },
  {
   "cell_type": "code",
   "execution_count": 3,
   "metadata": {},
   "outputs": [
    {
     "data": {
      "text/plain": [
       "defaultdict(list, {0: [1, 2], 1: [3, 4], 2: [4], 3: [4], 4: [5]})"
      ]
     },
     "execution_count": 3,
     "metadata": {},
     "output_type": "execute_result"
    }
   ],
   "source": [
    "g = Graph()\n",
    "g.add_edge(0, 1)\n",
    "g.add_edge(0, 2)\n",
    "g.add_edge(1, 3)\n",
    "g.add_edge(1, 4)\n",
    "g.add_edge(2, 4)\n",
    "g.add_edge(3, 4)\n",
    "g.add_edge(4, 5)\n",
    "\n",
    "# Graph Visualisation\n",
    "#      0\n",
    "#     / \\\n",
    "#    1   2\n",
    "#   /\\  /\n",
    "# 3 - 4 - 5\n",
    "g.adj"
   ]
  },
  {
   "cell_type": "code",
   "execution_count": 4,
   "metadata": {},
   "outputs": [
    {
     "name": "stdout",
     "output_type": "stream",
     "text": [
      "Depth First Traversal, starting from vertex 2:\n",
      "0 1 3 4 5 2 "
     ]
    }
   ],
   "source": [
    "print(\"Depth First Traversal, starting from vertex 2:\")\n",
    "DFS(g.adj, 0)"
   ]
  },
  {
   "cell_type": "code",
   "execution_count": null,
   "metadata": {},
   "outputs": [],
   "source": []
  }
 ],
 "metadata": {
  "kernelspec": {
   "display_name": "__pyenv__",
   "language": "python",
   "name": "python3"
  },
  "language_info": {
   "codemirror_mode": {
    "name": "ipython",
    "version": 3
   },
   "file_extension": ".py",
   "mimetype": "text/x-python",
   "name": "python",
   "nbconvert_exporter": "python",
   "pygments_lexer": "ipython3",
   "version": "3.13.2"
  }
 },
 "nbformat": 4,
 "nbformat_minor": 2
}
