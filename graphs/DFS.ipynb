{
 "cells": [
  {
   "cell_type": "code",
   "execution_count": 1,
   "metadata": {},
   "outputs": [],
   "source": [
    "from collections import defaultdict\n",
    "\n",
    "class Graph:\n",
    "    def __init__(self):\n",
    "        self.adj = defaultdict(list)\n",
    "\n",
    "    # Function to add an edge to graph\n",
    "    def addEdge(self, u: int, v: int):\n",
    "        self.adj[u].append(v)\n"
   ]
  },
  {
   "cell_type": "code",
   "execution_count": 2,
   "metadata": {},
   "outputs": [],
   "source": [
    "from typing import List\n",
    "\n",
    "def DFSHelper(adj: defaultdict[List], v: int, visited: set[int]):\n",
    "    visited.add(v)\n",
    "    print(v, end=' ')\n",
    "\n",
    "    # Recur for all the vertices\n",
    "    # adjacent to this vertex\n",
    "    for neighbour in adj[v]:\n",
    "        if neighbour not in visited:\n",
    "            DFSHelper(adj, neighbour, visited)\n",
    "\n",
    "def DFS(adj: defaultdict[List], v: int):\n",
    "    visited = set()\n",
    "\n",
    "    # Call the recursive helper function\n",
    "    # to print DFS traversal\n",
    "    DFSHelper(adj, v, visited)"
   ]
  },
  {
   "cell_type": "code",
   "execution_count": 3,
   "metadata": {},
   "outputs": [],
   "source": [
    "g = Graph()\n",
    "g.addEdge(0, 1)\n",
    "g.addEdge(0, 2)\n",
    "g.addEdge(1, 2)\n",
    "g.addEdge(2, 0)\n",
    "g.addEdge(2, 3)\n",
    "g.addEdge(3, 3)"
   ]
  },
  {
   "cell_type": "code",
   "execution_count": 4,
   "metadata": {},
   "outputs": [
    {
     "name": "stdout",
     "output_type": "stream",
     "text": [
      "Depth First Traversal, starting from vertex 2:\n",
      "2 0 1 3 "
     ]
    }
   ],
   "source": [
    "print(\"Depth First Traversal, starting from vertex 2:\")\n",
    "DFS(g.adj, 2)"
   ]
  },
  {
   "cell_type": "code",
   "execution_count": null,
   "metadata": {},
   "outputs": [],
   "source": []
  }
 ],
 "metadata": {
  "kernelspec": {
   "display_name": "__pyenv__",
   "language": "python",
   "name": "python3"
  },
  "language_info": {
   "codemirror_mode": {
    "name": "ipython",
    "version": 3
   },
   "file_extension": ".py",
   "mimetype": "text/x-python",
   "name": "python",
   "nbconvert_exporter": "python",
   "pygments_lexer": "ipython3",
   "version": "3.13.2"
  }
 },
 "nbformat": 4,
 "nbformat_minor": 2
}
