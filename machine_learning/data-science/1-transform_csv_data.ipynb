{
 "cells": [
  {
   "cell_type": "code",
   "execution_count": null,
   "metadata": {},
   "outputs": [],
   "source": [
    "import os\n",
    "import pandas as pd\n",
    "\n",
    "current_folder = globals()['_dh'][0]\n",
    "CSV_FILE = os.path.join(current_folder, 'csv', 'customers-100.csv')\n",
    "\n",
    "pd.options.display.max_columns = 6 # prevents abbreviated columns\n",
    "df = pd.read_csv(CSV_FILE)\n",
    "print(df.head()) # first 5 rows of data\n",
    "print(df.describe()) # statistics about the columns\n",
    "\n",
    "col = df['Email'] # select column, known as Pandas Series\n",
    "\n",
    "inner_df = df[['First Name', 'Last Name', 'Email']] # select multiple columns\n",
    "print(inner_df.head())\n",
    "\n",
    "df['x'] = inner_df['First Name'] == 'Roy' # creates new column\n",
    "\n",
    "np_array = df['x'].values # convert col to numpy array"
   ]
  },
  {
   "cell_type": "code",
   "execution_count": null,
   "metadata": {},
   "outputs": [],
   "source": []
  }
 ],
 "metadata": {
  "kernelspec": {
   "display_name": "__pyenv__",
   "language": "python",
   "name": "python3"
  },
  "language_info": {
   "codemirror_mode": {
    "name": "ipython",
    "version": 3
   },
   "file_extension": ".py",
   "mimetype": "text/x-python",
   "name": "python",
   "nbconvert_exporter": "python",
   "pygments_lexer": "ipython3",
   "version": "3.13.2"
  }
 },
 "nbformat": 4,
 "nbformat_minor": 2
}
