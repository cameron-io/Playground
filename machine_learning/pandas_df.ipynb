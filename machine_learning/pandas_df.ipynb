{
 "cells": [
  {
   "cell_type": "code",
   "execution_count": null,
   "metadata": {},
   "outputs": [
    {
     "name": "stdout",
     "output_type": "stream",
     "text": [
      "   Index      Customer Id First Name  ...                        Email  \\\n",
      "0      1  DD37Cf93aecA6Dc     Sheryl  ...     zunigavanessa@smith.info   \n",
      "1      2  1Ef7b82A4CAAD10    Preston  ...              vmata@colon.com   \n",
      "2      3  6F94879bDAfE5a6        Roy  ...          beckycarr@hogan.com   \n",
      "3      4  5Cef8BFA16c5e3c      Linda  ...  stanleyblackwell@benson.org   \n",
      "4      5  053d585Ab6b3159     Joanna  ...      colinalvarado@miles.net   \n",
      "\n",
      "  Subscription Date                      Website  \n",
      "0        2020-08-24   http://www.stephenson.com/  \n",
      "1        2021-04-23        http://www.hobbs.com/  \n",
      "2        2020-03-25     http://www.lawrence.com/  \n",
      "3        2020-06-02   http://www.good-lyons.com/  \n",
      "4        2021-04-17  https://goodwin-ingram.com/  \n",
      "\n",
      "[5 rows x 12 columns]\n",
      "            Index\n",
      "count  100.000000\n",
      "mean    50.500000\n",
      "std     29.011492\n",
      "min      1.000000\n",
      "25%     25.750000\n",
      "50%     50.500000\n",
      "75%     75.250000\n",
      "max    100.000000\n",
      "  First Name Last Name                        Email\n",
      "0     Sheryl    Baxter     zunigavanessa@smith.info\n",
      "1    Preston    Lozano              vmata@colon.com\n",
      "2        Roy     Berry          beckycarr@hogan.com\n",
      "3      Linda     Olsen  stanleyblackwell@benson.org\n",
      "4     Joanna    Bender      colinalvarado@miles.net\n"
     ]
    }
   ],
   "source": [
    "import os\n",
    "import pandas as pd\n",
    "\n",
    "current_folder = globals()['_dh'][0]\n",
    "CSV_FILE = os.path.join(current_folder, 'csv', 'customers-100.csv')\n",
    "\n",
    "pd.options.display.max_columns = 6 # prevents abbreviated columns\n",
    "df = pd.read_csv(CSV_FILE)\n",
    "print(df.head()) # first 5 rows of data\n",
    "print(df.describe()) # statistics about the columns\n",
    "\n",
    "col = df['Email'] # select column, known as Pandas Series\n",
    "\n",
    "inner_df = df[['First Name', 'Last Name', 'Email']] # select multiple columns\n",
    "print(inner_df.head())\n",
    "\n",
    "df['x'] = inner_df['First Name'] == 'Roy' # creates new column\n",
    "\n",
    "np_array = df['x'].values # convert col to numpy array"
   ]
  },
  {
   "cell_type": "code",
   "execution_count": null,
   "metadata": {},
   "outputs": [],
   "source": []
  }
 ],
 "metadata": {
  "kernelspec": {
   "display_name": "__pyenv__",
   "language": "python",
   "name": "python3"
  },
  "language_info": {
   "codemirror_mode": {
    "name": "ipython",
    "version": 3
   },
   "file_extension": ".py",
   "mimetype": "text/x-python",
   "name": "python",
   "nbconvert_exporter": "python",
   "pygments_lexer": "ipython3",
   "version": "3.10.11"
  }
 },
 "nbformat": 4,
 "nbformat_minor": 2
}
