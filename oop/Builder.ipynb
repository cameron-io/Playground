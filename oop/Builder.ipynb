{
 "cells": [
  {
   "cell_type": "code",
   "execution_count": 14,
   "id": "1fa96838-1842-46ab-bc45-9842af6e714a",
   "metadata": {},
   "outputs": [],
   "source": [
    "from __future__ import annotations\n",
    "from abc import ABC, abstractmethod\n",
    "from typing import Any\n",
    "\n",
    "class Builder(ABC):\n",
    "    @property\n",
    "    @abstractmethod\n",
    "    def product(self) -> None:\n",
    "        pass\n",
    "\n",
    "    @abstractmethod\n",
    "    def produce_part_a(self) -> None:\n",
    "        pass\n",
    "\n",
    "    @abstractmethod\n",
    "    def produce_part_b(self) -> None:\n",
    "        pass\n",
    "\n",
    "    @abstractmethod\n",
    "    def produce_part_c(self) -> None:\n",
    "        pass"
   ]
  },
  {
   "cell_type": "code",
   "execution_count": 15,
   "id": "adf5ec37-8f86-4f35-abac-17c70c8052de",
   "metadata": {},
   "outputs": [],
   "source": [
    "class ImplBuilder(Builder):\n",
    "    def __init__(self) -> None:\n",
    "        self.reset()\n",
    "\n",
    "    def reset(self) -> None:\n",
    "        self._product = Product1()\n",
    "\n",
    "    @property\n",
    "    def product(self) -> Product1:\n",
    "        product = self._product\n",
    "        self.reset()\n",
    "        return product\n",
    "\n",
    "    def produce_part_a(self) -> None:\n",
    "        self._product.add(\"PartA1\")\n",
    "\n",
    "    def produce_part_b(self) -> None:\n",
    "        self._product.add(\"PartB1\")\n",
    "\n",
    "    def produce_part_c(self) -> None:\n",
    "        self._product.add(\"PartC1\")"
   ]
  },
  {
   "cell_type": "code",
   "execution_count": 16,
   "id": "48269501-7d9e-47c6-9509-7b091a0760ea",
   "metadata": {},
   "outputs": [],
   "source": [
    "class Product1():\n",
    "    def __init__(self) -> None:\n",
    "        self.parts = []\n",
    "\n",
    "    def add(self, part: Any) -> None:\n",
    "        self.parts.append(part)\n",
    "\n",
    "    def list_parts(self) -> None:\n",
    "        print(f\"Product parts: {', '.join(self.parts)}\", end=\"\")"
   ]
  },
  {
   "cell_type": "code",
   "execution_count": 17,
   "id": "d372883f-dc72-41ea-8936-1acfb3b78556",
   "metadata": {},
   "outputs": [],
   "source": [
    "class Director:\n",
    "    def __init__(self) -> None:\n",
    "        self._builder = None\n",
    "\n",
    "    @property\n",
    "    def builder(self) -> Builder:\n",
    "        return self._builder\n",
    "\n",
    "    @builder.setter\n",
    "    def builder(self, builder: Builder) -> None:\n",
    "        self._builder = builder\n",
    "\n",
    "    def build_minimal_viable_product(self) -> None:\n",
    "        self.builder.produce_part_a()\n",
    "\n",
    "    def build_full_featured_product(self) -> None:\n",
    "        self.builder.produce_part_a()\n",
    "        self.builder.produce_part_b()\n",
    "        self.builder.produce_part_c()"
   ]
  },
  {
   "cell_type": "code",
   "execution_count": 18,
   "id": "c81d6464-31a5-46e8-b3ff-d853885e1323",
   "metadata": {},
   "outputs": [],
   "source": [
    "director = Director()\n",
    "builder = ImplBuilder()\n",
    "director.builder = builder"
   ]
  },
  {
   "cell_type": "code",
   "execution_count": 19,
   "id": "00417f2a-fe3e-4906-bf54-bfa483948b3a",
   "metadata": {},
   "outputs": [
    {
     "name": "stdout",
     "output_type": "stream",
     "text": [
      "Standard basic product: \n",
      "Product parts: PartA1"
     ]
    }
   ],
   "source": [
    "print(\"Standard basic product: \")\n",
    "director.build_minimal_viable_product()\n",
    "builder.product.list_parts()"
   ]
  },
  {
   "cell_type": "code",
   "execution_count": 20,
   "id": "48685165-c646-4c2f-bc9a-53f10ccb0445",
   "metadata": {},
   "outputs": [
    {
     "name": "stdout",
     "output_type": "stream",
     "text": [
      "Standard full featured product: \n",
      "Product parts: PartA1, PartB1, PartC1"
     ]
    }
   ],
   "source": [
    "print(\"Standard full featured product: \")\n",
    "director.build_full_featured_product()\n",
    "builder.product.list_parts()"
   ]
  },
  {
   "cell_type": "code",
   "execution_count": 21,
   "id": "b06b7879-b471-4ffe-84e6-d8f6c383a140",
   "metadata": {},
   "outputs": [
    {
     "name": "stdout",
     "output_type": "stream",
     "text": [
      "Custom product: \n",
      "Product parts: PartA1, PartB1"
     ]
    }
   ],
   "source": [
    "# Remember, the Builder pattern can be used without a Director class.\n",
    "print(\"Custom product: \")\n",
    "builder.produce_part_a()\n",
    "builder.produce_part_b()\n",
    "builder.product.list_parts()"
   ]
  },
  {
   "cell_type": "code",
   "execution_count": null,
   "id": "5d2eb1e7-b557-400b-bda8-15f91e7fa253",
   "metadata": {},
   "outputs": [],
   "source": []
  }
 ],
 "metadata": {
  "kernelspec": {
   "display_name": "Python 3 (ipykernel)",
   "language": "python",
   "name": "python3"
  },
  "language_info": {
   "codemirror_mode": {
    "name": "ipython",
    "version": 3
   },
   "file_extension": ".py",
   "mimetype": "text/x-python",
   "name": "python",
   "nbconvert_exporter": "python",
   "pygments_lexer": "ipython3",
   "version": "3.13.1"
  }
 },
 "nbformat": 4,
 "nbformat_minor": 5
}
