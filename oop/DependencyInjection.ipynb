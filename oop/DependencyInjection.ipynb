{
 "cells": [
  {
   "cell_type": "code",
   "execution_count": 14,
   "id": "6af34ff3-cb87-4e7f-a802-6e29c6f895f9",
   "metadata": {},
   "outputs": [],
   "source": [
    "class ApiClient:\n",
    "\n",
    "    def __init__(self, api_key: str, timeout: int) -> None:\n",
    "        self.api_key = api_key  # <-- dependency is injected\n",
    "        self.timeout = timeout  # <-- dependency is injected"
   ]
  },
  {
   "cell_type": "code",
   "execution_count": 15,
   "id": "76853b37-5987-4d51-93e1-145ca4b6cbe6",
   "metadata": {},
   "outputs": [],
   "source": [
    "class DbService:\n",
    "\n",
    "    def __init__(self, api_client: ApiClient) -> None:\n",
    "        self.api_client = api_client  # <-- dependency is injected"
   ]
  },
  {
   "cell_type": "code",
   "execution_count": 16,
   "id": "d917dcff-ad5b-4cde-b84d-913313afd2b6",
   "metadata": {},
   "outputs": [],
   "source": [
    "def start_application(service: DbService) -> None:  # <-- dependency is injected\n",
    "    pass"
   ]
  },
  {
   "cell_type": "code",
   "execution_count": 17,
   "id": "3b898696-bdc2-480f-bb0d-dd6e1a6c8d48",
   "metadata": {},
   "outputs": [],
   "source": [
    "service = DbService(api_client=ApiClient('key', 0))"
   ]
  },
  {
   "cell_type": "code",
   "execution_count": 18,
   "id": "a45f6881-4c69-4ce3-b0a0-84d20e477889",
   "metadata": {},
   "outputs": [],
   "source": [
    "start_application(service)"
   ]
  },
  {
   "cell_type": "code",
   "execution_count": null,
   "id": "ee9ed2f4-a5c0-4b40-a4a4-746990b33a2e",
   "metadata": {},
   "outputs": [],
   "source": []
  }
 ],
 "metadata": {
  "kernelspec": {
   "display_name": "Python 3 (ipykernel)",
   "language": "python",
   "name": "python3"
  },
  "language_info": {
   "codemirror_mode": {
    "name": "ipython",
    "version": 3
   },
   "file_extension": ".py",
   "mimetype": "text/x-python",
   "name": "python",
   "nbconvert_exporter": "python",
   "pygments_lexer": "ipython3",
   "version": "3.13.1"
  }
 },
 "nbformat": 4,
 "nbformat_minor": 5
}
