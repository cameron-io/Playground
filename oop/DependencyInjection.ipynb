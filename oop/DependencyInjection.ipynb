{
 "cells": [
  {
   "cell_type": "code",
   "execution_count": 1,
   "id": "6af34ff3-cb87-4e7f-a802-6e29c6f895f9",
   "metadata": {},
   "outputs": [],
   "source": [
    "class DbService:\n",
    "\n",
    "    def __init__(self, uri: str, timeout: int) -> None:\n",
    "        # connect using uri, timeout...\n",
    "        pass\n",
    "\n",
    "    def get_session(self):\n",
    "        print('Retrieved DB session')"
   ]
  },
  {
   "cell_type": "code",
   "execution_count": 2,
   "id": "76853b37-5987-4d51-93e1-145ca4b6cbe6",
   "metadata": {},
   "outputs": [],
   "source": [
    "class HttpServer:\n",
    "\n",
    "    def __init__(self, db_service: DbService) -> None:\n",
    "        self.db_service = db_service\n",
    "        print('DbService injected')\n",
    "    \n",
    "    def handle_request(self):\n",
    "        self.db_service.get_session()"
   ]
  },
  {
   "cell_type": "code",
   "execution_count": 3,
   "id": "d917dcff-ad5b-4cde-b84d-913313afd2b6",
   "metadata": {},
   "outputs": [],
   "source": [
    "def start_application() -> None:\n",
    "    db_service = DbService(uri='', timeout=0)\n",
    "    http_server = HttpServer(db_service=db_service)\n",
    "    http_server.handle_request()\n",
    "    pass"
   ]
  },
  {
   "cell_type": "code",
   "execution_count": 4,
   "id": "a45f6881-4c69-4ce3-b0a0-84d20e477889",
   "metadata": {},
   "outputs": [
    {
     "name": "stdout",
     "output_type": "stream",
     "text": [
      "DbService injected\n",
      "Retrieved DB session\n"
     ]
    }
   ],
   "source": [
    "start_application()"
   ]
  },
  {
   "cell_type": "code",
   "execution_count": null,
   "id": "c20793e4",
   "metadata": {},
   "outputs": [],
   "source": []
  }
 ],
 "metadata": {
  "kernelspec": {
   "display_name": "__pyenv__",
   "language": "python",
   "name": "python3"
  },
  "language_info": {
   "codemirror_mode": {
    "name": "ipython",
    "version": 3
   },
   "file_extension": ".py",
   "mimetype": "text/x-python",
   "name": "python",
   "nbconvert_exporter": "python",
   "pygments_lexer": "ipython3",
   "version": "3.13.1"
  }
 },
 "nbformat": 4,
 "nbformat_minor": 5
}
