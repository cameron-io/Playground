{
 "cells": [
  {
   "cell_type": "code",
   "execution_count": 23,
   "id": "a1bc9774-1cc7-458b-880d-c89968bf6371",
   "metadata": {},
   "outputs": [],
   "source": [
    "from __future__ import annotations\n",
    "from abc import ABC, abstractmethod"
   ]
  },
  {
   "cell_type": "code",
   "execution_count": 24,
   "id": "130a80e6-38b9-457e-af11-2e973af0ebea",
   "metadata": {},
   "outputs": [],
   "source": [
    "class Creator(ABC):\n",
    "\n",
    "    @abstractmethod\n",
    "    def factory_method(self):\n",
    "        pass\n",
    "\n",
    "    def some_operation(self) -> str:\n",
    "        # Call the factory method to create a Product object.\n",
    "        product = self.factory_method()\n",
    "\n",
    "        # Now, use the product.\n",
    "        result = f\"Creator: The same creator's code has just worked with {product.operation()}\"\n",
    "\n",
    "        return result"
   ]
  },
  {
   "cell_type": "code",
   "execution_count": 25,
   "id": "d058ae4d-37bf-46e0-bae3-de251a6dd834",
   "metadata": {},
   "outputs": [],
   "source": [
    "class ImplCreator1(Creator):\n",
    "    def factory_method(self) -> Product:\n",
    "        return ImplProduct1()\n",
    "\n",
    "class ImplCreator2(Creator):\n",
    "    def factory_method(self) -> Product:\n",
    "        return ImplProduct2()"
   ]
  },
  {
   "cell_type": "code",
   "execution_count": 26,
   "id": "0012c5d1-00a6-47af-822d-cb0242d2c2c6",
   "metadata": {},
   "outputs": [],
   "source": [
    "class Product(ABC):\n",
    "    @abstractmethod\n",
    "    def operation(self) -> str:\n",
    "        pass"
   ]
  },
  {
   "cell_type": "code",
   "execution_count": 27,
   "id": "9d7885de-8f7f-4476-98b2-877f1fb29dc6",
   "metadata": {},
   "outputs": [],
   "source": [
    "class ImplProduct1(Product):\n",
    "    def operation(self) -> str:\n",
    "        return \"{Result of the ImplProduct1}\"\n",
    "\n",
    "class ImplProduct2(Product):\n",
    "    def operation(self) -> str:\n",
    "        return \"{Result of the ImplProduct2}\""
   ]
  },
  {
   "cell_type": "code",
   "execution_count": 28,
   "id": "4a0e1862-1d26-4026-be48-9fe77bc32a4e",
   "metadata": {},
   "outputs": [],
   "source": [
    "def client_code(creator: Creator) -> None:\n",
    "    print(f\"Client: I'm not aware of the creator's class, but it still works.\\n\"\n",
    "          f\"{creator.some_operation()}\", end=\"\")"
   ]
  },
  {
   "cell_type": "code",
   "execution_count": 29,
   "id": "70148dff-1dd2-4c63-8c63-9b3c413f0500",
   "metadata": {},
   "outputs": [
    {
     "name": "stdout",
     "output_type": "stream",
     "text": [
      "App: Launched with the ImplCreator1.\n",
      "Client: I'm not aware of the creator's class, but it still works.\n",
      "Creator: The same creator's code has just worked with {Result of the ImplProduct1}"
     ]
    }
   ],
   "source": [
    "print(\"App: Launched with the ImplCreator1.\")\n",
    "client_code(ImplCreator1())"
   ]
  },
  {
   "cell_type": "code",
   "execution_count": 30,
   "id": "6a51c698-2839-4dd9-91ce-2d7ff8d88f40",
   "metadata": {},
   "outputs": [
    {
     "name": "stdout",
     "output_type": "stream",
     "text": [
      "App: Launched with the ImplCreator2.\n",
      "Client: I'm not aware of the creator's class, but it still works.\n",
      "Creator: The same creator's code has just worked with {Result of the ImplProduct2}"
     ]
    }
   ],
   "source": [
    "print(\"App: Launched with the ImplCreator2.\")\n",
    "client_code(ImplCreator2())"
   ]
  },
  {
   "cell_type": "code",
   "execution_count": null,
   "id": "054634e5-db25-4b22-845f-5d47a7e27ce3",
   "metadata": {},
   "outputs": [],
   "source": []
  }
 ],
 "metadata": {
  "kernelspec": {
   "display_name": "Python 3 (ipykernel)",
   "language": "python",
   "name": "python3"
  },
  "language_info": {
   "codemirror_mode": {
    "name": "ipython",
    "version": 3
   },
   "file_extension": ".py",
   "mimetype": "text/x-python",
   "name": "python",
   "nbconvert_exporter": "python",
   "pygments_lexer": "ipython3",
   "version": "3.13.1"
  }
 },
 "nbformat": 4,
 "nbformat_minor": 5
}
