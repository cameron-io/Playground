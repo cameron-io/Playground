{
 "cells": [
  {
   "cell_type": "code",
   "execution_count": 2,
   "id": "a1c84545-1bb0-4183-964d-35631a1ff29b",
   "metadata": {},
   "outputs": [],
   "source": [
    "class Vehicle:\n",
    "  def __init__(self, brand, model):\n",
    "    self.brand = brand\n",
    "    self.model = model\n",
    "\n",
    "  def move(self):\n",
    "    print(\"Move!\")"
   ]
  },
  {
   "cell_type": "code",
   "execution_count": 3,
   "id": "c4b2c1ac-94fc-4d41-ba39-e52067ded5d5",
   "metadata": {},
   "outputs": [],
   "source": [
    "class Car(Vehicle):\n",
    "  pass"
   ]
  },
  {
   "cell_type": "code",
   "execution_count": 4,
   "id": "1fefdc03-9aac-4c15-ae8a-e1afd8ab0124",
   "metadata": {},
   "outputs": [],
   "source": [
    "class Boat(Vehicle):\n",
    "  def move(self):\n",
    "    print(\"Sail!\")"
   ]
  },
  {
   "cell_type": "code",
   "execution_count": 5,
   "id": "dc9740be-901c-4e8d-a1e6-dd5d91389dce",
   "metadata": {},
   "outputs": [],
   "source": [
    "class Plane(Vehicle):\n",
    "  def move(self):\n",
    "    print(\"Fly!\")"
   ]
  },
  {
   "cell_type": "code",
   "execution_count": 6,
   "id": "af4e92f0-0238-48d2-b0fb-a70dd189ce0b",
   "metadata": {},
   "outputs": [],
   "source": [
    "car1 = Car(\"Ford\", \"Mustang\")       #Create a Car object\n",
    "boat1 = Boat(\"Ibiza\", \"Touring 20\") #Create a Boat object\n",
    "plane1 = Plane(\"Boeing\", \"747\")     #Create a Plane object"
   ]
  },
  {
   "cell_type": "code",
   "execution_count": 7,
   "id": "60e944ba-15a6-410d-ac9e-ab73f26c7515",
   "metadata": {},
   "outputs": [
    {
     "name": "stdout",
     "output_type": "stream",
     "text": [
      "Ford\n",
      "Mustang\n",
      "Move!\n",
      "Ibiza\n",
      "Touring 20\n",
      "Sail!\n",
      "Boeing\n",
      "747\n",
      "Fly!\n"
     ]
    }
   ],
   "source": [
    "for x in (car1, boat1, plane1):\n",
    "  print(x.brand)\n",
    "  print(x.model)\n",
    "  x.move()"
   ]
  },
  {
   "cell_type": "code",
   "execution_count": null,
   "id": "6fc0eec0-8023-4800-9167-08510b3056f1",
   "metadata": {},
   "outputs": [],
   "source": []
  }
 ],
 "metadata": {
  "kernelspec": {
   "display_name": "Python 3 (ipykernel)",
   "language": "python",
   "name": "python3"
  },
  "language_info": {
   "codemirror_mode": {
    "name": "ipython",
    "version": 3
   },
   "file_extension": ".py",
   "mimetype": "text/x-python",
   "name": "python",
   "nbconvert_exporter": "python",
   "pygments_lexer": "ipython3",
   "version": "3.13.1"
  }
 },
 "nbformat": 4,
 "nbformat_minor": 5
}
