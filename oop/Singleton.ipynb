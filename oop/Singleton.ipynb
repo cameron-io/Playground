{
 "cells": [
  {
   "cell_type": "code",
   "execution_count": 1,
   "id": "fe23af13-f5e5-4e12-8d47-a3af0943f901",
   "metadata": {},
   "outputs": [],
   "source": [
    "# Straightforward implementation of the Singleton Pattern\n",
    "\n",
    "class Logger(object):\n",
    "    _instance = None\n",
    "\n",
    "    def __new__(cls):\n",
    "        if cls._instance is None:\n",
    "            print('Creating the object')\n",
    "            cls._instance = super(Logger, cls).__new__(cls)\n",
    "            # Put any initialization here.\n",
    "        return cls._instance"
   ]
  },
  {
   "cell_type": "code",
   "execution_count": 2,
   "id": "db5a08b7-ba64-493c-96ea-a035b53fa790",
   "metadata": {},
   "outputs": [
    {
     "name": "stdout",
     "output_type": "stream",
     "text": [
      "Creating the object\n",
      "<__main__.Logger object at 0x10ee906e0>\n"
     ]
    }
   ],
   "source": [
    "log1 = Logger()\n",
    "print(log1)"
   ]
  },
  {
   "cell_type": "code",
   "execution_count": 3,
   "id": "a6d479c8-39e9-463b-b28f-92f6661c326f",
   "metadata": {},
   "outputs": [
    {
     "name": "stdout",
     "output_type": "stream",
     "text": [
      "<__main__.Logger object at 0x10ee906e0>\n",
      "Are they the same object? True\n"
     ]
    }
   ],
   "source": [
    "log2 = Logger()\n",
    "print(log2)\n",
    "print('Are they the same object?', log1 is log2)"
   ]
  },
  {
   "cell_type": "code",
   "execution_count": null,
   "id": "3e357692-678e-4959-92ac-a831bb9a3102",
   "metadata": {},
   "outputs": [],
   "source": []
  }
 ],
 "metadata": {
  "kernelspec": {
   "display_name": "Python 3 (ipykernel)",
   "language": "python",
   "name": "python3"
  },
  "language_info": {
   "codemirror_mode": {
    "name": "ipython",
    "version": 3
   },
   "file_extension": ".py",
   "mimetype": "text/x-python",
   "name": "python",
   "nbconvert_exporter": "python",
   "pygments_lexer": "ipython3",
   "version": "3.13.1"
  }
 },
 "nbformat": 4,
 "nbformat_minor": 5
}
